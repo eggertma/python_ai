{
 "cells": [
  {
   "cell_type": "markdown",
   "metadata": {},
   "source": [
    "# Einführung\n",
    "Wenn man KI und maschinelles Lernen verstehen möchte, muss man zunächst verinnerlichen, wie KI Projekte aufgebaut sind. \n",
    "Diese Lehreinheit basiert auf dem Buch \"Hands-On Machine Learning with Scikit-Learn, Keras & TensorFlow\" von Aurélien Géron und hat folgende Struktur:\n",
    "1. Betrachten Sie das Gesamtbild. <--\n",
    "2. Holen Sie sich die Daten.\n",
    "3. Entdecken und visualisieren Sie die Daten, um Erkenntnisse zu gewinnen.\n",
    "4. Bereiten Sie die Daten für Algorithmen des maschinellen Lernens vor.\n",
    "5. Wählen Sie ein Modell aus und trainieren Sie es.\n",
    "6. Nehmen Sie eine Feinabstimmung Ihres Modells vor.\n",
    "7. Präsentieren Sie Ihre Lösung.\n",
    "8. Starten, überwachen und warten Sie Ihr System."
   ]
  },
  {
   "cell_type": "markdown",
   "metadata": {},
   "source": [
    "# Arbeiten mit realen Daten \n",
    "Wenn Sie sich mit maschinellem Lernen beschäftigen, ist es am besten, mit realen Daten und nicht nur mit künstlichen Datensätzen zu experimentieren. Glücklicherweise gibt es Tausende von offenen Datensätzen, die in allen möglichen Bereichen zur Auswahl stehen. Beispiele sind:\n",
    "- http://dataportals.org/\n",
    "- http://opendatamonitor.eu/\n",
    "- http://quandl.com/"
   ]
  },
  {
   "cell_type": "markdown",
   "metadata": {},
   "source": [
    "# Aufgabenstellung\n",
    "Willkommen bei der Machine Learning Housing Corporation (MLHC)! Ihre erste Aufgabe ist es, ein Modell der Immobilienpreise in Kalifornien unter Verwendung der kalifornischen Volkszählung zu erstellen. Diese Daten haben Metriken wie Bevölkerung, Einkommen, Wohnungspreise, etc. für jede Blockgruppe in Kalifornien. Blockgruppen sind die kleinsten geografische Einheit, für die das US Census Bureau Beispieldaten veröffentlicht (eine Blockgruppe hat in der Regel eine Bevölkerung von 600 bis 3.000 Personen). Im Folgenden nenn wir sie einfach **\"Distrikte\"**.\n",
    "\n",
    "**Ihr Modell sollte aus diesen Daten lernen und in der Lage sein, den Durchschnitt der Hauspreise in einem Distrikt vorherzusagen, wobei alle anderen Metriken gegeben sind.**"
   ]
  },
  {
   "cell_type": "markdown",
   "metadata": {},
   "source": [
    "# Data Pipelines\n",
    "Eine Folge von Datenverarbeitungskomponenten wird als **Datenpipeline** bezeichnet. Pipelines sind in Systemen des maschinellen Lernens sehr weit verbreitet, da in der Regel viele Datentransformationen durchgeführt werden müssen. Die Komponenten laufen normalerweise asynchron. Jede Komponente läd große Datenmenge, verarbeitet sie und spuckt das Ergebnis in einem anderen Datenspeicher aus. Später zieht die nächste Komponente in der Pipeline diese Daten und spuckt ihre eigene Ausgabe aus, und so weiter. \n",
    "Jede Komponente ist in sich geschlossen: die Schnittstelle zwischen den Komponenten ist einfach der Datenspeicher. Dadurch ist das System recht einfach zu erfassen (mit Hilfe von Datenflussdiagrammen), und verschiedene Teams können sich auf verschiedene Komponenten konzentrieren. Beim Ausfall einer Komponente können die nachgeschalteten Komponenten oft weiterlaufen normalerweise (zumindest für eine Weile), indem man nur die letzte Ausgabe der defekten Komponente verwendet. Dies macht die Architektur recht robust. \n"
   ]
  },
  {
   "attachments": {
    "grafik.png": {
     "image/png": "[encoded data removed]"
    }
   },
   "cell_type": "markdown",
   "metadata": {},
   "source": [
    "# Auswahl einer Methode zur Leistungsmessung\n",
    "Ihr nächster Schritt ist die Auswahl eines Leistungsmaßes. Ein typisches Leistungsmaß für Regressionsprobleme \n",
    "ist der Root Mean Square Error (RMSE). Er misst die Standardabweichung der Fehler, die das System bei seinen \n",
    "Vorhersagen macht. Zum Beispiel bedeutet ein RMSE von 50.000, dass etwa 68 Prozent der Vorhersagen des Systems innerhalb \n",
    "von 50.000 € des tatsächlichen Wertes liegen und etwa 95 Prozent der Vorhersagen innerhalb von 100.000 € des tatsächlichen \n",
    "Wertes.Die folgende Abbildung zeigt die mathematische Formel zur Berechnung des RMSE.\n",
    "![grafik.png](attachment:grafik.png)\n",
    "\n",
    "Eine zweite Möglichkeit die Performance eines KI-Systems zu messen ist die Anwendung des Mean Absolute Error (MAE). Auch wenn der RMSE im Allgemeinen das bevorzugte Leistungsmaß für Regressionsaufgaben ist, werden Sie in manchen Kontexten vielleicht eine andere Funktion bevorzugen. Nehmen wir zum Beispiel an, dass es viele Ausreißer-Distrikte gibt. In diesem Fall ist es empfehlenswert, das MAE-Leistungsmaß zu verwenden. Die Berechnung wird in folgender Abbildung dargestellt.\n"  
   ]
  },
  {
   "cell_type": "code",
   "execution_count": null,
   "metadata": {},
   "outputs": [],
   "source": []
  }
 ],
 "metadata": {
  "kernelspec": {
   "display_name": "Python 3",
   "language": "python",
   "name": "python3"
  },
  "language_info": {
   "codemirror_mode": {
    "name": "ipython",
    "version": 3
   },
   "file_extension": ".py",
   "mimetype": "text/x-python",
   "name": "python",
   "nbconvert_exporter": "python",
   "pygments_lexer": "ipython3",
   "version": "3.8.1"
  }
 },
 "nbformat": 4,
 "nbformat_minor": 4
}
