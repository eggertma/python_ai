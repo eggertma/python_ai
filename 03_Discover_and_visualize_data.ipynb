{
 "cells": [
  {
   "cell_type": "markdown",
   "metadata": {},
   "source": [
    "# Erkundung und Visualisierung großer Datenmengen\n",
    "Bisher haben Sie nur einen kurzen Blick auf die Daten geworfen, um ein allgemeines Verständnis für die Art der Daten zu bekommen, die Sie untersuchen wollen. Jetzt geht es darum, ein wenig in die Tiefe zu gehen. Vergewissern Sie sich zunächst, dass Sie die Testdaten beiseite gelegt haben und nur den Trainingsdatensatz erkunden. \n",
    "Lassen Sie uns zunächst eine Kopie erstellen, damit Sie damit spielen können, ohne die dem Trainingsset schaden: "
   ]
  },
  {
   "cell_type": "code",
   "execution_count": null,
   "metadata": {
    "ExecuteTime": {
     "end_time": "2023-04-18T10:07:46.637594Z",
     "start_time": "2023-04-18T10:07:46.587746Z"
    }
   },
   "outputs": [],
   "source": [
    "import os\n",
    "import pandas as pd\n",
    "import numpy as np\n",
    "import matplotlib.pyplot as plt\n",
    "from sklearn.model_selection import StratifiedShuffleSplit\n",
    "\n",
    "# Datenbeschaffung / Einlesen einer csv Datei wie in Abschnitt 2 beschrieben\n",
    "def load_housing_data():\n",
    "    csv_path = os.path.join(\"datasets/housing/housing.csv\")\n",
    "    return pd.read_csv(csv_path)\n",
    "\n",
    "\n",
    "housing = load_housing_data()\n",
    "# Erstellung income category Attribut mit fünf Kategorien\n",
    "housing[\"income_cat\"] = np.ceil(housing[\"median_income\"] / 1.5)\n",
    "housing[\"income_cat\"].where(housing[\"income_cat\"] < 5, 5.0, inplace=True)\n",
    "\n",
    "# Basierend auf dem Kategorie-Attribut wird nun eine stratifizierte Stichprobe gezogen\n",
    "split = StratifiedShuffleSplit(n_splits=1, test_size=0.2, random_state=42)\n",
    "for train_index, test_index in split.split(housing, housing[\"income_cat\"]):\n",
    "    strat_train_set = housing.loc[train_index]\n",
    "    strat_test_set = housing.loc[test_index]\n",
    "\n",
    "housing = strat_train_set.copy()\n",
    "housing.info()"
   ]
  },
  {
   "cell_type": "markdown",
   "metadata": {},
   "source": [
    "Mit der plot-Methode lassen sich Daten einfach visulaisieren.\n",
    "Alle Paramter werden hier erläutert:\n",
    "https://matplotlib.org/3.1.0/api/_as_gen/matplotlib.pyplot.scatter.html#matplotlib.pyplot.scatter"
   ]
  },
  {
   "cell_type": "code",
   "execution_count": null,
   "metadata": {
    "ExecuteTime": {
     "end_time": "2023-04-18T10:07:46.758343Z",
     "start_time": "2023-04-18T10:07:46.620738Z"
    }
   },
   "outputs": [],
   "source": [
    "housing.plot(kind=\"scatter\", x=\"longitude\", y=\"latitude\")"
   ]
  },
  {
   "cell_type": "markdown",
   "metadata": {},
   "source": [
    "Wenn die Dichte der Datenpunkte auch visulaisiert werden soll, eignet es sich, das Attribut alpha auf den Wert 0.1 zu setzen."
   ]
  },
  {
   "cell_type": "code",
   "execution_count": null,
   "metadata": {
    "ExecuteTime": {
     "end_time": "2023-04-18T10:07:46.899669Z",
     "start_time": "2023-04-18T10:07:46.758343Z"
    }
   },
   "outputs": [],
   "source": [
    "housing.plot(kind=\"scatter\", x=\"longitude\", y=\"latitude\", alpha=0.1)"
   ]
  },
  {
   "cell_type": "markdown",
   "metadata": {},
   "source": [
    "Betrachten wir nun die Immobilienpreise. Der Radius jedes Kreises repräsentiert die Einwohnerzahl des Bezirks (Option s), und die Farbe repräsentiert den Preis (Option c). Wir werden eine vordefinierte Farbkarte (Option cmap), genannt Jet, verwenden, die von blau (niedrige Werte) bis rot (hohe Preise) reicht."
   ]
  },
  {
   "cell_type": "code",
   "execution_count": null,
   "metadata": {
    "ExecuteTime": {
     "end_time": "2023-04-18T10:07:48.016180Z",
     "start_time": "2023-04-18T10:07:46.899669Z"
    }
   },
   "outputs": [],
   "source": [
    "import matplotlib.pyplot as plt\n",
    "\n",
    "housing.plot(kind=\"scatter\", x=\"longitude\", y=\"latitude\", alpha=0.4,\n",
    "s=housing[\"population\"]/100, label=\"population\",\n",
    "c=\"median_house_value\", cmap=plt.get_cmap(\"jet\"), colorbar=True)\n",
    "plt.legend()"
   ]
  },
  {
   "cell_type": "markdown",
   "metadata": {},
   "source": [
    "# Korrelationen suchen und erkennen\n",
    "Da der Datensatz nicht zu groß ist, können Sie den Standardkorrelationskoeffizienten (auch Pearson's r genannt) zwischen jedem Paar von Attributen mit der corr()-Methode leicht berechnen.\n",
    "# Übung 1\n",
    "Aufgabe 1: Wenden Sie die corr()-Methode auf dem housing-Trainingsdatensatz an.\n",
    "Aufgabe 2: Lassen Sie sich die Daten mit der print-Methode ausgeben. \n",
    "Aufgabe 3: Geben Sie nur die Korrelationen für die durchschnittlichen Hauspreise an und sortieren Sie die Wiedergabe absteigend (Mit der Methode sort_values(ascending=False) können Sie die Werte sortieren lassen)."
   ]
  },
  {
   "cell_type": "code",
   "execution_count": null,
   "metadata": {
    "ExecuteTime": {
     "end_time": "2023-04-18T10:26:05.019914Z",
     "start_time": "2023-04-18T10:26:05.008296Z"
    }
   },
   "outputs": [],
   "source": [
    "# Versuchen Sie als erstes alle nicht numerischen Spalten zu löschen\n",
    "# Arbeiten Sie dafür mit dem Befehl del gefolgt von der Spalte die gelöscht werden soll\n",
    "housing_num = housing.copy()\n",
    "del housing_num['ocean_proximity']\n",
    "\n",
    "cres = housing_num.corr()\n",
    "print(cres['median_house_value'].sort_values(ascending=False))\n",
    "# Für sie Sortierung von Werten fügen Sie nach der Variable die Methode sort_values(ascending=[True / False]) hinzu.\n",
    "\n"
   ]
  },
  {
   "cell_type": "markdown",
   "metadata": {},
   "source": [
    "Das vielversprechendste Attribut zur Vorhersage des durchschnittlichen Hauswertes ist das durchschnittliche Einkommen, also lassen Sie uns ein Korrelationsstreudiagramm für diese Daten erstellen."
   ]
  },
  {
   "cell_type": "code",
   "execution_count": null,
   "metadata": {
    "ExecuteTime": {
     "end_time": "2023-04-18T10:28:56.735161Z",
     "start_time": "2023-04-18T10:28:56.538430Z"
    }
   },
   "outputs": [],
   "source": [
    "housing.plot(kind=\"scatter\", x=\"median_income\", y=\"median_house_value\",\n",
    "alpha=0.1)"
   ]
  },
  {
   "cell_type": "markdown",
   "metadata": {},
   "source": [
    "# Analyse von Attributkombinationen und deren Wirkung\n",
    "Hoffentlich haben Ihnen die vorangegangenen Abschnitte eine Vorstellung davon vermittelt, wie Sie die Daten untersuchen und Erkenntnisse gewinnen können. Sie haben ein paar Datenmängel identifiziert, die Sie vielleicht bereinigen möchten, bevor Sie die Daten einem Algorithmus für maschinelles Lernen zuführen und Sie haben interessante Korrelationen zwischen den Attributen gefunden, insbesondere mit dem Zielattribut. \n",
    "\n",
    "Eine letzte Sache, die Sie vielleicht vor der eigentlichen Vorbereitung der Daten für die Algorithmen des maschinellen Lernens tun möchten, ist das Ausprobieren verschiedener Attributkombinationen. Zum Beispiel ist die Gesamtzahl der Räume in einem Bezirk nicht sehr nützlich, wenn Sie nicht wissen, wie viele Haushalte es gibt. Was Sie wirklich wollen, ist die Anzahl der Räume pro Haushalt zu untersuchen. Ebenso ist die Gesamtzahl der Zimmer an sich nicht sehr nützlich. Relevanter wäre wohl die Anzahl der Schlafzimmer pro Anzahl Zimmer. Und die Bevölkerung pro Haushalt scheint auch eine interessante Kombination von Attributen zu sein, die man sich ansehen sollte. Lassen Sie uns diese neuen Attribute erstellen.\n"
   ]
  },
  {
   "cell_type": "markdown",
   "metadata": {},
   "source": [
    "# Übung 2\n",
    "Ignorieren Sie erneut alle kategoriellen Attribute in Ihrem Dataframe.\n",
    "Aufgabe 1: Erstellen Sie in Ihrem housing Datenobjekt ein neues Attribut für die Anzahl Zimmer pro Haushalt.\n",
    "Aufgabe 2: Erstellen Sie in Ihrem housing Datenobjekt ein neues Attribut für die Anzahl Schlafzimmer pro Gesamtanzahl Zimmer.\n",
    "Aufgabe 3: Erstellen Sie in Ihrem housing Datenobjekt ein neues Attribut für die Anzahl Einwohner pro Haushalt\n",
    "Aufgabe 4: Erstellen Sie wieder eine Korrelationsmatrix und geben Sie die Korrelationskoeffizienten für den durchschnittlichen Hauspreis aus. Was fällt Ihnen auf?"
   ]
  },
  {
   "cell_type": "code",
   "execution_count": null,
   "metadata": {
    "ExecuteTime": {
     "end_time": "2023-04-18T10:32:27.700480Z",
     "start_time": "2023-04-18T10:32:27.692268Z"
    }
   },
   "outputs": [],
   "source": [
    "# Neue Attribute werden erzeugt indem der der Dataframe mit dem neuen Spaltenname aufgerufen wird und eine Zuordnung \n",
    "# statt findet. Bsp. Dataframe['NeuesAttribut'] = DataFrameAlt['AttributX']\n",
    "housing['total_rooms_per_household'] = housing['total_rooms'] / housing['households']\n",
    "housing['total_bedrooms_per_rooms'] = housing['total_bedrooms'] / housing['total_rooms']\n",
    "housing['population_per_household'] = housing['population'] / housing['households'] \n",
    "housing.info()"
   ]
  },
  {
   "cell_type": "markdown",
   "metadata": {},
   "source": [
    "Nicht schlecht. Wenn Sie bis hierhin gekommen sind, kennen Sie die Struktur und den Inhalt Ihrer Daten! Diese Erkundungsrunde muss nicht absolut gründlich sein; es geht vielmehr darum, auf dem richtigen Weg zu beginnen und schnell Erkenntnisse zu gewinnen, die Ihnen helfen, einen ersten halbwegs guten Prototypen zu erhalten. Aber dies ist ein iterativer Prozess: Sobald Sie einen Prototyp zum Laufen gebracht haben, können Sie seine Ergebnisse analysieren, um weitere Erkenntnisse zu gewinnen und zu diesem Explorationsschritt zurückkehren."
   ]
  },
  {
   "cell_type": "code",
   "execution_count": null,
   "metadata": {},
   "outputs": [],
   "source": []
  }
 ],
 "metadata": {
  "kernelspec": {
   "display_name": "Python 3 (ipykernel)",
   "language": "python",
   "name": "python3"
  },
  "language_info": {
   "codemirror_mode": {
    "name": "ipython",
    "version": 3
   },
   "file_extension": ".py",
   "mimetype": "text/x-python",
   "name": "python",
   "nbconvert_exporter": "python",
   "pygments_lexer": "ipython3",
   "version": "3.11.2"
  }
 },
 "nbformat": 4,
 "nbformat_minor": 4
}
